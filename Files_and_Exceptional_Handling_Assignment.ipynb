{
  "nbformat": 4,
  "nbformat_minor": 0,
  "metadata": {
    "colab": {
      "provenance": []
    },
    "kernelspec": {
      "name": "python3",
      "display_name": "Python 3"
    },
    "language_info": {
      "name": "python"
    }
  },
  "cells": [
    {
      "cell_type": "markdown",
      "source": [
        "**Theory Questions**\n",
        "\n",
        "###Q.1: What is the difference between interpreted and compiled languages?\n",
        "Ans.\n",
        "\n",
        "Interpreted languages execute code line by line without compiling it into machine code, allowing easier debugging and platform independence.\n",
        "\n",
        "Compiled languages translate the entire program into machine code before execution, generally resulting in faster performance but less flexibility.\n",
        "\n",
        "###Q.2: What is exception handling in Python?\n",
        "Ans.\n",
        "\n",
        "Exception handling in Python is a mechanism to catch and handle runtime errors, preventing the program from crashing and enabling graceful error recovery using try, except, else, and finally blocks.\n",
        "\n",
        "###Q.3: What is the purpose of the finally block in exception handling?\n",
        "Ans.\n",
        "\n",
        "The finally block contains code that is executed regardless of whether an exception occurred or not, often used for cleanup actions like closing files or releasing resources.\n",
        "\n",
        "###Q.4: What is logging in Python?\n",
        "Ans.\n",
        "\n",
        "Logging is the process of recording messages from a Python program to various outputs (console, files) to track events, errors, and informational messages during execution.\n",
        "\n",
        "###Q.5: What is the significance of the __del__ method in Python?\n",
        "Ans.\n",
        "\n",
        "The __del__ method is a destructor that is called when an object is about to be destroyed. It is useful for cleaning up resources such as closing files or network connections.\n",
        "\n",
        "###Q.6: What is the difference between import and from ... import in Python?\n",
        "Ans.\n",
        "\n",
        "import module imports the whole module and requires usage of the module name to access its functions.\n",
        "\n",
        "from module import name imports a specific attribute or function directly, allowing usage without module prefix.\n",
        "\n",
        "###Q.7: How can you handle multiple exceptions in Python?\n",
        "Ans.\n",
        "\n",
        "Multiple exceptions can be handled by specifying them as a tuple in a single except block or by using multiple except blocks for different exceptions.\n",
        "\n",
        "###Q.8: What is the purpose of the with statement when handling files in Python?\n",
        "Ans.\n",
        "\n",
        "The with statement ensures proper acquisition and release of resources, automatically closing the file after its block is executed, even if exceptions occur.\n",
        "\n",
        "###Q.9: What is the difference between multithreading and multiprocessing?\n",
        "Ans.\n",
        "\n",
        "Multithreading uses multiple threads within a single process sharing the same memory space, suited for I/O-bound tasks.\n",
        "\n",
        "Multiprocessing uses multiple processes with separate memory spaces, suited for CPU-bound tasks.\n",
        "\n",
        "###Q.10: What are the advantages of using logging in a program?\n",
        "Ans.\n",
        "\n",
        "Logging helps track events, debug errors, monitor program execution, and record history for audits or troubleshooting without interrupting the program flow.\n",
        "\n",
        "###Q.11: What is memory management in Python?\n",
        "Ans.\n",
        "\n",
        "Memory management refers to the allocation and deallocation of memory during the lifetime of a program to optimize resource use and avoid memory leaks.\n",
        "\n",
        "###Q.12: What are the basic steps involved in exception handling in Python?\n",
        "Ans.\n",
        "\n",
        "The basic steps are: try to execute code, catch exceptions with except, optionally use else for code when no exception occurs, and finally for cleanup actions.\n",
        "\n",
        "###Q.13: Why is memory management important in Python?\n",
        "Ans.\n",
        "\n",
        "Proper memory management ensures efficient use of resources, prevents memory leaks, and maintains program performance over time.\n",
        "\n",
        "###Q.14: What is the role of try and except in exception handling?\n",
        "Ans.\n",
        "\n",
        "The try block contains code that might throw an exception; the except block catches and handles the exception to prevent the program from crashing.\n",
        "\n",
        "###Q.15: How does Python's garbage collection system work?\n",
        "Ans.\n",
        "\n",
        "Python’s garbage collector frees memory by detecting and removing objects that are no longer referenced, using reference counting and cyclic garbage collection.\n",
        "\n",
        "###Q.16: What is the purpose of the else block in exception handling?\n",
        "Ans.\n",
        "\n",
        "The else block executes code only if the try block does not raise an exception, allowing separation of normal code from exception handling code.\n",
        "\n",
        "###Q.17: What are the common logging levels in Python?\n",
        "Ans.\n",
        "\n",
        "The common levels are DEBUG, INFO, WARNING, ERROR, and CRITICAL, representing different severities of log messages.\n",
        "\n",
        "###Q.18: What is the difference between os.fork() and multiprocessing in Python?\n",
        "Ans.\n",
        "\n",
        "os.fork() creates a new process by duplicating the current one but is Unix-specific; multiprocessing is a cross-platform Python module for creating and managing processes with more features.\n",
        "\n",
        "###Q.19: What is the importance of closing a file in Python?\n",
        "Ans.\n",
        "\n",
        "Closing a file ensures that all buffered data is written to disk and releases system resources tied to the file.\n",
        "\n",
        "###Q.20: What is the difference between file.read() and file.readline() in Python?\n",
        "Ans.\n",
        "\n",
        "file.read() reads the entire contents of the file.\n",
        "\n",
        "file.readline() reads one line at a time.\n",
        "\n",
        "###Q.21: What is the logging module in Python used for?\n",
        "Ans.\n",
        "\n",
        "The logging module provides a flexible framework for emitting log messages from Python programs to various outputs and supports different severity levels.\n",
        "\n",
        "###Q.22: What is the os module in Python used for in file handling?\n",
        "Ans.\n",
        "\n",
        "The os module provides a way to interact with the operating system, enabling operations like file creation, deletion, renaming, checking existence, and directory manipulation.\n",
        "\n",
        "###Q.23: What are the challenges associated with memory management in Python?\n",
        "Ans.\n",
        "\n",
        "Challenges include managing reference cycles, controlling fragmented memory, and avoiding memory leaks especially when using extensions or large data.\n",
        "\n",
        "###Q.24: How do you raise an exception manually in Python?\n",
        "Ans.\n",
        "\n",
        "Using the raise keyword followed by an exception type or instance, for example, raise ValueError(\"Invalid input\").\n",
        "\n",
        "###Q.25: Why is it important to use multithreading in certain applications?\n",
        "Ans.\n",
        "\n",
        "Multithreading allows concurrent execution of tasks, improving performance in I/O-bound or high-latency operations like web servers or user interfaces.\n",
        "\n",
        "\n",
        "\n"
      ],
      "metadata": {
        "id": "mdi8jB5j1rIw"
      }
    },
    {
      "cell_type": "markdown",
      "source": [
        "**Practical Question**"
      ],
      "metadata": {
        "id": "sdUOsHqV5Rus"
      }
    },
    {
      "cell_type": "code",
      "source": [
        "'''Q.1: How can you open a file for writing in Python and write a string to it?\n",
        "'''\n",
        "'Ans'\n",
        "with open('file.txt', 'w') as file:\n",
        "    file.write('Hello, this is a string.')"
      ],
      "metadata": {
        "id": "Di4c_bHf5DTb"
      },
      "execution_count": 2,
      "outputs": []
    },
    {
      "cell_type": "code",
      "source": [
        "'''Q.2: Write a Python program to read the contents of a file and print each line.\n",
        "'''\n",
        "'Ans'\n",
        "with open('file.txt', 'r') as file:\n",
        "    for line in file:\n",
        "        print(line, end='')"
      ],
      "metadata": {
        "colab": {
          "base_uri": "https://localhost:8080/"
        },
        "id": "RUHqucCGCSE2",
        "outputId": "0a952401-4866-47cb-e21f-a14c8bea1a9e"
      },
      "execution_count": 3,
      "outputs": [
        {
          "output_type": "stream",
          "name": "stdout",
          "text": [
            "Hello, this is a string."
          ]
        }
      ]
    },
    {
      "cell_type": "code",
      "source": [
        "'''Q.3: How would you handle a case where the file doesn't exist while trying to open it for reading?\n",
        "'''\n",
        "'Ans'\n",
        "try:\n",
        "    with open('nonexistent.txt', 'r') as file:\n",
        "        content = file.read()\n",
        "except FileNotFoundError:\n",
        "    print(\"File does not exist.\")"
      ],
      "metadata": {
        "colab": {
          "base_uri": "https://localhost:8080/"
        },
        "id": "9pLcFZMTCk5z",
        "outputId": "ffa8ff7d-db1f-4e41-9f0c-b80bf02e3ab0"
      },
      "execution_count": 4,
      "outputs": [
        {
          "output_type": "stream",
          "name": "stdout",
          "text": [
            "File does not exist.\n"
          ]
        }
      ]
    },
    {
      "cell_type": "code",
      "source": [
        "'''Q.4: Write a Python script that reads from one file and writes its content to another file.\n",
        "'''\n",
        "'Ans'\n",
        "with open('source.txt', 'r') as src, open('destination.txt', 'w') as dest:\n",
        "    for line in src:\n",
        "        dest.write(line)"
      ],
      "metadata": {
        "id": "ILomtt42DTFU"
      },
      "execution_count": 6,
      "outputs": []
    },
    {
      "cell_type": "code",
      "source": [
        "'''Q.5: How would you catch and handle division by zero error in Python?\n",
        "'''\n",
        "'Ans'\n",
        "try:\n",
        "    result = 10 / 0\n",
        "except ZeroDivisionError:\n",
        "    print(\"Cannot divide by zero.\")"
      ],
      "metadata": {
        "colab": {
          "base_uri": "https://localhost:8080/"
        },
        "id": "2dYDy-UiDejV",
        "outputId": "460a61cf-e5ef-41aa-9a32-117bc9ec44d8"
      },
      "execution_count": 7,
      "outputs": [
        {
          "output_type": "stream",
          "name": "stdout",
          "text": [
            "Cannot divide by zero.\n"
          ]
        }
      ]
    },
    {
      "cell_type": "code",
      "source": [
        "'''Q.6: Write a Python program that logs an error message to a log file when a division by zero exception occurs.\n",
        "'''\n",
        "'Ans'\n",
        "import logging\n",
        "\n",
        "logging.basicConfig(filename='error.log', level=logging.ERROR)\n",
        "\n",
        "try:\n",
        "    10 / 0\n",
        "except ZeroDivisionError as e:\n",
        "    logging.error(\"Division by zero error: %s\", e)"
      ],
      "metadata": {
        "colab": {
          "base_uri": "https://localhost:8080/"
        },
        "id": "uUjsXKaIEaRP",
        "outputId": "a6db0335-703d-444c-fe90-e28fd670a1ec"
      },
      "execution_count": 8,
      "outputs": [
        {
          "output_type": "stream",
          "name": "stderr",
          "text": [
            "ERROR:root:Division by zero error: division by zero\n"
          ]
        }
      ]
    },
    {
      "cell_type": "code",
      "source": [
        "'''Q.7: How do you log information at different levels (INFO, ERROR, WARNING) in Python using the logging module?\n",
        "'''\n",
        "'Ans'\n",
        "import logging\n",
        "\n",
        "logging.basicConfig(level=logging.DEBUG)\n",
        "\n",
        "logging.info(\"This is an info message.\")\n",
        "logging.warning(\"This is a warning message.\")\n",
        "logging.error(\"This is an error message.\")"
      ],
      "metadata": {
        "colab": {
          "base_uri": "https://localhost:8080/"
        },
        "id": "6efRmsyfFDb-",
        "outputId": "83cc1693-b237-4c4f-e3f2-9744288c7e37"
      },
      "execution_count": 9,
      "outputs": [
        {
          "output_type": "stream",
          "name": "stderr",
          "text": [
            "WARNING:root:This is a warning message.\n",
            "ERROR:root:This is an error message.\n"
          ]
        }
      ]
    },
    {
      "cell_type": "code",
      "source": [
        "'''Q.8: Write a program to handle a file opening error using exception handling.\n",
        "'''\n",
        "'Ans'\n",
        "try:\n",
        "    with open('file.txt', 'r') as file:\n",
        "        print(file.read())\n",
        "except IOError:\n",
        "    print(\"Error opening the file.\")"
      ],
      "metadata": {
        "colab": {
          "base_uri": "https://localhost:8080/"
        },
        "id": "ZzN3Qv2KFheA",
        "outputId": "c0217e5f-d883-49a0-edf8-314e35709a08"
      },
      "execution_count": 10,
      "outputs": [
        {
          "output_type": "stream",
          "name": "stdout",
          "text": [
            "Hello, this is a string.\n"
          ]
        }
      ]
    },
    {
      "cell_type": "code",
      "source": [
        "'''Q.9: How can you read a file line by line and store its content in a list in Python?\n",
        "'''\n",
        "'Ans'\n",
        "with open('file.txt', 'r') as file:\n",
        "    lines = file.readlines()"
      ],
      "metadata": {
        "id": "zhj3S9TwFnQ9"
      },
      "execution_count": 11,
      "outputs": []
    },
    {
      "cell_type": "code",
      "source": [
        "'''Q.10: How can you append data to an existing file in Python?\n",
        "'''\n",
        "'Ans'\n",
        "with open('file.txt', 'a') as file:\n",
        "    file.write('Appending some text.\\n')"
      ],
      "metadata": {
        "id": "_dWF2Do8F3PQ"
      },
      "execution_count": 12,
      "outputs": []
    },
    {
      "cell_type": "code",
      "source": [
        "'''Q.11: Write a Python program that uses a try-except block to handle an error when attempting to access a dictionary key that doesn't exist.\n",
        "'''\n",
        "'Ans'\n",
        "my_dict = {'a': 1, 'b': 2}\n",
        "\n",
        "try:\n",
        "    value = my_dict['c']\n",
        "except KeyError:\n",
        "    print(\"Key does not exist.\")"
      ],
      "metadata": {
        "colab": {
          "base_uri": "https://localhost:8080/"
        },
        "id": "Z0QjaNT6F-xm",
        "outputId": "f4f0111f-cc76-4964-8e76-672d4bfa39a9"
      },
      "execution_count": 13,
      "outputs": [
        {
          "output_type": "stream",
          "name": "stdout",
          "text": [
            "Key does not exist.\n"
          ]
        }
      ]
    },
    {
      "cell_type": "code",
      "source": [
        "'''Q.12: Write a program that demonstrates using multiple except blocks to handle different types of exceptions.\n",
        "'''\n",
        "'Ans'\n",
        "try:\n",
        "    x = 10 / 0\n",
        "except ZeroDivisionError:\n",
        "    print(\"Cannot divide by zero.\")\n",
        "except KeyError:\n",
        "    print(\"Key error encountered.\")"
      ],
      "metadata": {
        "colab": {
          "base_uri": "https://localhost:8080/"
        },
        "id": "pS_I7d6mGEzN",
        "outputId": "57952054-2a37-4fe9-a934-738b3b338d93"
      },
      "execution_count": 14,
      "outputs": [
        {
          "output_type": "stream",
          "name": "stdout",
          "text": [
            "Cannot divide by zero.\n"
          ]
        }
      ]
    },
    {
      "cell_type": "code",
      "source": [
        "'''Q.13: How would you check if a file exists before attempting to read it in Python?\n",
        "'''\n",
        "'Ans'\n",
        "import os\n",
        "\n",
        "if os.path.exists('file.txt'):\n",
        "    with open('file.txt', 'r') as file:\n",
        "        print(file.read())\n",
        "else:\n",
        "    print(\"File does not exist.\")"
      ],
      "metadata": {
        "colab": {
          "base_uri": "https://localhost:8080/"
        },
        "id": "Q2NYoAprGNaS",
        "outputId": "eb95e87f-3dba-490a-f8cd-a648edf4737d"
      },
      "execution_count": 15,
      "outputs": [
        {
          "output_type": "stream",
          "name": "stdout",
          "text": [
            "Hello, this is a string.Appending some text.\n",
            "\n"
          ]
        }
      ]
    },
    {
      "cell_type": "code",
      "source": [
        "'''Q.14: Write a program that uses the logging module to log both informational and error messages.\n",
        "'''\n",
        "'Ans'\n",
        "import logging\n",
        "\n",
        "logging.basicConfig(filename='app.log', level=logging.DEBUG)\n",
        "\n",
        "logging.info(\"This is an info message.\")\n",
        "try:\n",
        "    1 / 0\n",
        "except ZeroDivisionError:\n",
        "    logging.error(\"Error occurred: division by zero\")"
      ],
      "metadata": {
        "colab": {
          "base_uri": "https://localhost:8080/"
        },
        "id": "OfYpE2wZGWJu",
        "outputId": "8c0a5a0c-7cc4-483a-8074-0f673c54e6e6"
      },
      "execution_count": 16,
      "outputs": [
        {
          "output_type": "stream",
          "name": "stderr",
          "text": [
            "ERROR:root:Error occurred: division by zero\n"
          ]
        }
      ]
    },
    {
      "cell_type": "code",
      "source": [
        "'''Q.15: Write a Python program that prints the content of a file and handles the case when the file is empty.\n",
        "'''\n",
        "'Ans'\n",
        "with open('file.txt', 'r') as file:\n",
        "    content = file.read()\n",
        "    if content:\n",
        "        print(content)\n",
        "    else:\n",
        "        print(\"File is empty.\")"
      ],
      "metadata": {
        "colab": {
          "base_uri": "https://localhost:8080/"
        },
        "id": "RN7HU3UcGlsN",
        "outputId": "1413b60e-8586-4540-c856-82eca07d0212"
      },
      "execution_count": 17,
      "outputs": [
        {
          "output_type": "stream",
          "name": "stdout",
          "text": [
            "Hello, this is a string.Appending some text.\n",
            "\n"
          ]
        }
      ]
    },
    {
      "cell_type": "code",
      "source": [
        "pip install memory_profiler"
      ],
      "metadata": {
        "colab": {
          "base_uri": "https://localhost:8080/"
        },
        "id": "av3xPWSyf1-o",
        "outputId": "e05baf87-21f8-4a40-c813-16e083cf37f5"
      },
      "execution_count": 4,
      "outputs": [
        {
          "output_type": "stream",
          "name": "stdout",
          "text": [
            "Collecting memory_profiler\n",
            "  Downloading memory_profiler-0.61.0-py3-none-any.whl.metadata (20 kB)\n",
            "Requirement already satisfied: psutil in /usr/local/lib/python3.12/dist-packages (from memory_profiler) (5.9.5)\n",
            "Downloading memory_profiler-0.61.0-py3-none-any.whl (31 kB)\n",
            "Installing collected packages: memory_profiler\n",
            "Successfully installed memory_profiler-0.61.0\n"
          ]
        }
      ]
    },
    {
      "cell_type": "code",
      "source": [
        "'''Q.16: Demonstrate how to use memory profiling to check the memory usage of a small program.\n",
        "'''\n",
        "'Ans'\n",
        "from memory_profiler import profile\n",
        "\n",
        "@profile\n",
        "def my_func():\n",
        "    a = [i for i in range(100)]\n",
        "    return a\n",
        "\n",
        "my_func()\n",
        "\n",
        "\n",
        "\n"
      ],
      "metadata": {
        "colab": {
          "base_uri": "https://localhost:8080/"
        },
        "id": "a1jB6JcqGtsx",
        "outputId": "d1705fb1-03bf-47cf-b306-5057810d4323"
      },
      "execution_count": 6,
      "outputs": [
        {
          "output_type": "stream",
          "name": "stdout",
          "text": [
            "ERROR: Could not find file /tmp/ipython-input-2488301285.py\n"
          ]
        },
        {
          "output_type": "execute_result",
          "data": {
            "text/plain": [
              "[0,\n",
              " 1,\n",
              " 2,\n",
              " 3,\n",
              " 4,\n",
              " 5,\n",
              " 6,\n",
              " 7,\n",
              " 8,\n",
              " 9,\n",
              " 10,\n",
              " 11,\n",
              " 12,\n",
              " 13,\n",
              " 14,\n",
              " 15,\n",
              " 16,\n",
              " 17,\n",
              " 18,\n",
              " 19,\n",
              " 20,\n",
              " 21,\n",
              " 22,\n",
              " 23,\n",
              " 24,\n",
              " 25,\n",
              " 26,\n",
              " 27,\n",
              " 28,\n",
              " 29,\n",
              " 30,\n",
              " 31,\n",
              " 32,\n",
              " 33,\n",
              " 34,\n",
              " 35,\n",
              " 36,\n",
              " 37,\n",
              " 38,\n",
              " 39,\n",
              " 40,\n",
              " 41,\n",
              " 42,\n",
              " 43,\n",
              " 44,\n",
              " 45,\n",
              " 46,\n",
              " 47,\n",
              " 48,\n",
              " 49,\n",
              " 50,\n",
              " 51,\n",
              " 52,\n",
              " 53,\n",
              " 54,\n",
              " 55,\n",
              " 56,\n",
              " 57,\n",
              " 58,\n",
              " 59,\n",
              " 60,\n",
              " 61,\n",
              " 62,\n",
              " 63,\n",
              " 64,\n",
              " 65,\n",
              " 66,\n",
              " 67,\n",
              " 68,\n",
              " 69,\n",
              " 70,\n",
              " 71,\n",
              " 72,\n",
              " 73,\n",
              " 74,\n",
              " 75,\n",
              " 76,\n",
              " 77,\n",
              " 78,\n",
              " 79,\n",
              " 80,\n",
              " 81,\n",
              " 82,\n",
              " 83,\n",
              " 84,\n",
              " 85,\n",
              " 86,\n",
              " 87,\n",
              " 88,\n",
              " 89,\n",
              " 90,\n",
              " 91,\n",
              " 92,\n",
              " 93,\n",
              " 94,\n",
              " 95,\n",
              " 96,\n",
              " 97,\n",
              " 98,\n",
              " 99]"
            ]
          },
          "metadata": {},
          "execution_count": 6
        }
      ]
    },
    {
      "cell_type": "code",
      "source": [
        "'''Q.17: Write a Python program to create and write a list of numbers to a file, one number per line.\n",
        "'''\n",
        "'Ans'\n",
        "numbers = [1, 2, 3, 4, 5]\n",
        "\n",
        "with open('numbers.txt', 'w') as file:\n",
        "    for number in numbers:\n",
        "        file.write(f\"{number}\\n\")"
      ],
      "metadata": {
        "id": "odTyJpNVI6QV"
      },
      "execution_count": 7,
      "outputs": []
    },
    {
      "cell_type": "code",
      "source": [
        "'''Q.18: How would you implement a basic logging setup that logs to a file with rotation after 1MB?\n",
        "'''\n",
        "'Ans'\n",
        "import logging\n",
        "from logging.handlers import RotatingFileHandler\n",
        "\n",
        "logger = logging.getLogger()\n",
        "logger.setLevel(logging.DEBUG)\n",
        "\n",
        "handler = RotatingFileHandler('app.log', maxBytes=1_000_000, backupCount=3)\n",
        "logger.addHandler(handler)\n",
        "\n",
        "logger.info(\"This is a log message.\")"
      ],
      "metadata": {
        "colab": {
          "base_uri": "https://localhost:8080/"
        },
        "id": "8u6RZQIWgS7u",
        "outputId": "317ddd1e-15ec-4539-dac4-085090098353"
      },
      "execution_count": 8,
      "outputs": [
        {
          "output_type": "stream",
          "name": "stderr",
          "text": [
            "INFO:root:This is a log message.\n"
          ]
        }
      ]
    },
    {
      "cell_type": "code",
      "source": [
        "'''Q.19: Write a program that handles both IndexError and KeyError using a try-except block.\n",
        "'''\n",
        "'Ans'\n",
        "my_list = [1, 2, 3]\n",
        "my_dict = {'a': 1}\n",
        "\n",
        "try:\n",
        "    print(my_list[5])\n",
        "    print(my_dict['b'])\n",
        "except IndexError:\n",
        "    print(\"Index error occurred.\")\n",
        "except KeyError:\n",
        "    print(\"Key error occurred.\")"
      ],
      "metadata": {
        "colab": {
          "base_uri": "https://localhost:8080/"
        },
        "id": "vwNal-xCgf_1",
        "outputId": "a23e4e06-bcc8-4298-add1-420314e29927"
      },
      "execution_count": 9,
      "outputs": [
        {
          "output_type": "stream",
          "name": "stdout",
          "text": [
            "Index error occurred.\n"
          ]
        }
      ]
    },
    {
      "cell_type": "code",
      "source": [
        "'''Q.20: How would you open a file and read its contents using a context manager in Python?\n",
        "'''\n",
        "'Ans'\n",
        "with open('file.txt', 'r') as file:\n",
        "    contents = file.read()\n",
        "    print(contents)"
      ],
      "metadata": {
        "id": "9ogDVSLGgoBa"
      },
      "execution_count": 10,
      "outputs": []
    },
    {
      "cell_type": "code",
      "source": [
        "'''Q.21: Write a Python program that reads a file and prints the number of occurrences of a specific word.\n",
        "'''\n",
        "'Ans'\n",
        "word = 'python'\n",
        "count = 0\n",
        "\n",
        "with open('file.txt', 'r') as file:\n",
        "    for line in file:\n",
        "        count += line.lower().split().count(word)\n",
        "\n",
        "print(f\"The word '{word}' occurred {count} times.\")"
      ],
      "metadata": {
        "id": "u3gN-EYhgura"
      },
      "execution_count": 11,
      "outputs": []
    },
    {
      "cell_type": "code",
      "source": [
        "'''Q.22: How can you check if a file is empty before attempting to read its contents?\n",
        "'''\n",
        "'Ans'\n",
        "import os\n",
        "\n",
        "if os.path.getsize('file.txt') > 0:\n",
        "    with open('file.txt', 'r') as file:\n",
        "        print(file.read())\n",
        "else:\n",
        "    print(\"File is empty.\")"
      ],
      "metadata": {
        "id": "kAjLIp8GhLYW"
      },
      "execution_count": 12,
      "outputs": []
    },
    {
      "cell_type": "code",
      "source": [
        "'''Q.23: Write a Python program that writes to a log file when an error occurs during file handling.\n",
        "'''\n",
        "'Ans'\n",
        "import logging\n",
        "\n",
        "logging.basicConfig(filename='file_errors.log', level=logging.ERROR)\n",
        "\n",
        "try:\n",
        "    with open('nonexistent_file.txt', 'r') as file:\n",
        "        data = file.read()\n",
        "except IOError as e:\n",
        "    logging.error(\"File error: %s\", e)"
      ],
      "metadata": {
        "colab": {
          "base_uri": "https://localhost:8080/"
        },
        "id": "yQX-ql5mhfg_",
        "outputId": "7e6b4b9b-e3f8-424c-c631-99dcb1c3e7af"
      },
      "execution_count": 13,
      "outputs": [
        {
          "output_type": "stream",
          "name": "stderr",
          "text": [
            "ERROR:root:File error: [Errno 2] No such file or directory: 'nonexistent_file.txt'\n"
          ]
        }
      ]
    },
    {
      "cell_type": "code",
      "source": [],
      "metadata": {
        "id": "E20PdqJbhrRX"
      },
      "execution_count": null,
      "outputs": []
    }
  ]
}